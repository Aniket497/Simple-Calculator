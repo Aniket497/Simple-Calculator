{
 "cells": [
  {
   "cell_type": "code",
   "execution_count": 1,
   "metadata": {},
   "outputs": [
    {
     "name": "stdout",
     "output_type": "stream",
     "text": [
      "Options:\n",
      "Enter 'add' to add two numbers\n",
      "Enter 'subtract' to subtract two numbers\n",
      "Enter 'multiply' to multiply two numbers\n",
      "Enter 'divide' to divide two numbers\n",
      "Enter 'quit' to end the program\n",
      ": add\n",
      "Enter a number: 3\n",
      "Enter another number: 4\n",
      "The answer is 7.0\n",
      "Options:\n",
      "Enter 'add' to add two numbers\n",
      "Enter 'subtract' to subtract two numbers\n",
      "Enter 'multiply' to multiply two numbers\n",
      "Enter 'divide' to divide two numbers\n",
      "Enter 'quit' to end the program\n",
      ": subtract\n",
      "Enter a number: 5\n",
      "Enter another number: 4\n",
      "The answer is 1.0\n",
      "Options:\n",
      "Enter 'add' to add two numbers\n",
      "Enter 'subtract' to subtract two numbers\n",
      "Enter 'multiply' to multiply two numbers\n",
      "Enter 'divide' to divide two numbers\n",
      "Enter 'quit' to end the program\n",
      ": multiply\n",
      "Enter a number: 5\n",
      "Enter another number: 4\n",
      "The answer is 20.0\n",
      "Options:\n",
      "Enter 'add' to add two numbers\n",
      "Enter 'subtract' to subtract two numbers\n",
      "Enter 'multiply' to multiply two numbers\n",
      "Enter 'divide' to divide two numbers\n",
      "Enter 'quit' to end the program\n",
      ": divide\n",
      "Enter a number: 5\n",
      "Enter another number: 4\n",
      "The answer is 1.25\n",
      "Options:\n",
      "Enter 'add' to add two numbers\n",
      "Enter 'subtract' to subtract two numbers\n",
      "Enter 'multiply' to multiply two numbers\n",
      "Enter 'divide' to divide two numbers\n",
      "Enter 'quit' to end the program\n",
      ": quit\n"
     ]
    }
   ],
   "source": [
    "while True:\n",
    "   print(\"Options:\")\n",
    "   print(\"Enter 'add' to add two numbers\")\n",
    "   print(\"Enter 'subtract' to subtract two numbers\")\n",
    "   print(\"Enter 'multiply' to multiply two numbers\")\n",
    "   print(\"Enter 'divide' to divide two numbers\")\n",
    "   print(\"Enter 'quit' to end the program\")\n",
    "   user_input = input(\": \")\n",
    "\n",
    "   if user_input == \"quit\":\n",
    "      break\n",
    "   elif user_input == \"add\":\n",
    "        num1 = float(input(\"Enter a number: \"))\n",
    "        num2 = float(input(\"Enter another number: \"))\n",
    "        result = str(num1 + num2)\n",
    "        print(\"The answer is \" + result)\n",
    "   elif user_input == \"subtract\":\n",
    "        num1 = float(input(\"Enter a number: \"))\n",
    "        num2 = float(input(\"Enter another number: \"))\n",
    "        result = str(num1 - num2)\n",
    "        print(\"The answer is \" + result)\n",
    "   elif user_input == \"multiply\":\n",
    "        num1 = float(input(\"Enter a number: \"))\n",
    "        num2 = float(input(\"Enter another number: \"))\n",
    "        result = str(num1 * num2)\n",
    "        print(\"The answer is \" + result)\n",
    "   elif user_input == \"divide\":\n",
    "        num1 = float(input(\"Enter a number: \"))\n",
    "        num2 = float(input(\"Enter another number: \"))\n",
    "        result = str(num1 / num2)\n",
    "        print(\"The answer is \" + result)\n",
    "   else:\n",
    "      print(\"Unknown input\")"
   ]
  },
  {
   "cell_type": "markdown",
   "metadata": {},
   "source": []
  }
 ],
 "metadata": {
  "kernelspec": {
   "display_name": "Python 3",
   "language": "python",
   "name": "python3"
  },
  "language_info": {
   "codemirror_mode": {
    "name": "ipython",
    "version": 3
   },
   "file_extension": ".py",
   "mimetype": "text/x-python",
   "name": "python",
   "nbconvert_exporter": "python",
   "pygments_lexer": "ipython3",
   "version": "3.7.6"
  }
 },
 "nbformat": 4,
 "nbformat_minor": 4
}
